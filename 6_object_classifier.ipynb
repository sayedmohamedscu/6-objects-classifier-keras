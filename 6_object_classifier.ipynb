{
  "nbformat": 4,
  "nbformat_minor": 0,
  "metadata": {
    "colab": {
      "name": "6 object classifier.ipynb",
      "version": "0.3.2",
      "provenance": []
    },
    "kernelspec": {
      "name": "python3",
      "display_name": "Python 3"
    },
    "accelerator": "GPU"
  },
  "cells": [
    {
      "cell_type": "code",
      "metadata": {
        "id": "d_MD9x7aO2Qn",
        "colab_type": "code",
        "outputId": "d764fde2-df5a-440d-e1df-d96b17166fc2",
        "colab": {
          "base_uri": "https://localhost:8080/",
          "height": 224
        }
      },
      "source": [
        "!pip install kaggle\n"
      ],
      "execution_count": 0,
      "outputs": [
        {
          "output_type": "stream",
          "text": [
            "Requirement already satisfied: kaggle in /usr/local/lib/python3.6/dist-packages (1.5.3)\n",
            "Requirement already satisfied: urllib3<1.25,>=1.21.1 in /usr/local/lib/python3.6/dist-packages (from kaggle) (1.22)\n",
            "Requirement already satisfied: six>=1.10 in /usr/local/lib/python3.6/dist-packages (from kaggle) (1.11.0)\n",
            "Requirement already satisfied: certifi in /usr/local/lib/python3.6/dist-packages (from kaggle) (2019.3.9)\n",
            "Requirement already satisfied: python-dateutil in /usr/local/lib/python3.6/dist-packages (from kaggle) (2.5.3)\n",
            "Requirement already satisfied: requests in /usr/local/lib/python3.6/dist-packages (from kaggle) (2.18.4)\n",
            "Requirement already satisfied: tqdm in /usr/local/lib/python3.6/dist-packages (from kaggle) (4.28.1)\n",
            "Requirement already satisfied: python-slugify in /usr/local/lib/python3.6/dist-packages (from kaggle) (3.0.2)\n",
            "Requirement already satisfied: chardet<3.1.0,>=3.0.2 in /usr/local/lib/python3.6/dist-packages (from requests->kaggle) (3.0.4)\n",
            "Requirement already satisfied: idna<2.7,>=2.5 in /usr/local/lib/python3.6/dist-packages (from requests->kaggle) (2.6)\n",
            "Requirement already satisfied: text-unidecode==1.2 in /usr/local/lib/python3.6/dist-packages (from python-slugify->kaggle) (1.2)\n"
          ],
          "name": "stdout"
        }
      ]
    },
    {
      "cell_type": "code",
      "metadata": {
        "id": "gjsGXXRtR7DV",
        "colab_type": "code",
        "colab": {}
      },
      "source": [
        "!mkdir .kaggle\n",
        "!mkdir .s\n"
      ],
      "execution_count": 0,
      "outputs": []
    },
    {
      "cell_type": "code",
      "metadata": {
        "id": "je1I_KAPPBp_",
        "colab_type": "code",
        "outputId": "2aa63296-9e7b-4ef8-9a26-d85d302c073c",
        "colab": {
          "base_uri": "https://localhost:8080/",
          "height": 34
        }
      },
      "source": [
        "import json\n",
        "token = {\"username\":\"tesla2\",\"key\":\"2e88d384a9e1fa7950bfae00ad07e151\"}\n",
        "with open(\"/content/kaggle.json\", \"w\") as file:\n",
        "    json.dump(token, file)\n",
        "!ls"
      ],
      "execution_count": 0,
      "outputs": [
        {
          "output_type": "stream",
          "text": [
            "kaggle.json  sample_data\n"
          ],
          "name": "stdout"
        }
      ]
    },
    {
      "cell_type": "code",
      "metadata": {
        "id": "5zTnAHCoPHa0",
        "colab_type": "code",
        "colab": {}
      },
      "source": [
        "!chmod 600 /content/.s/kaggle.json"
      ],
      "execution_count": 0,
      "outputs": []
    },
    {
      "cell_type": "code",
      "metadata": {
        "id": "Moz_4xR1PIOp",
        "colab_type": "code",
        "colab": {}
      },
      "source": [
        "!cp /content/kaggle.json ~/.kaggle/kaggle.json"
      ],
      "execution_count": 0,
      "outputs": []
    },
    {
      "cell_type": "code",
      "metadata": {
        "id": "EBHK3l_CPKkw",
        "colab_type": "code",
        "outputId": "e792d1bf-fbe5-4c21-cb74-49265744037d",
        "colab": {
          "base_uri": "https://localhost:8080/",
          "height": 71
        }
      },
      "source": [
        "!kaggle config set -n path -v{/content}"
      ],
      "execution_count": 0,
      "outputs": [
        {
          "output_type": "stream",
          "text": [
            "Warning: Your Kaggle API key is readable by other users on this system! To fix this, you can run 'chmod 600 /root/.kaggle/kaggle.json'\n",
            "- path is now set to: {/content}\n"
          ],
          "name": "stdout"
        }
      ]
    },
    {
      "cell_type": "code",
      "metadata": {
        "id": "LmEIE0MSPMPg",
        "colab_type": "code",
        "outputId": "6dd6fa3e-f0ac-4067-d32f-987c95da2e85",
        "colab": {
          "base_uri": "https://localhost:8080/",
          "height": 105
        }
      },
      "source": [
        "!kaggle datasets download -d puneet6060/intel-image-classification -p /content "
      ],
      "execution_count": 0,
      "outputs": [
        {
          "output_type": "stream",
          "text": [
            "Warning: Your Kaggle API key is readable by other users on this system! To fix this, you can run 'chmod 600 /root/.kaggle/kaggle.json'\n",
            "Downloading intel-image-classification.zip to /content\n",
            " 99% 339M/344M [00:05<00:00, 55.8MB/s]\n",
            "100% 344M/344M [00:05<00:00, 62.9MB/s]\n"
          ],
          "name": "stdout"
        }
      ]
    },
    {
      "cell_type": "code",
      "metadata": {
        "id": "QUFNETOQPN1q",
        "colab_type": "code",
        "colab": {}
      },
      "source": [
        "X=!unzip -qq /content/intel-image-classification.zip"
      ],
      "execution_count": 0,
      "outputs": []
    },
    {
      "cell_type": "code",
      "metadata": {
        "id": "xrYr-h1heuIx",
        "colab_type": "code",
        "colab": {}
      },
      "source": [
        "!unzip -qq /content/seg_test.zip\n",
        "!unzip -qq /content/seg_train.zip"
      ],
      "execution_count": 0,
      "outputs": []
    },
    {
      "cell_type": "code",
      "metadata": {
        "id": "ORE0nQ_sl036",
        "colab_type": "code",
        "colab": {}
      },
      "source": [
        "\n",
        " \n",
        "import os\n",
        "import zipfile\n",
        " \n",
        " \n",
        "def retrieve_file_paths(dirName):\n",
        " \n",
        "  # setup file paths variable\n",
        "  filePaths = []\n",
        "   \n",
        "  # Read all directory, subdirectories and file lists\n",
        "  for root, directories, files in os.walk(dirName):\n",
        "    for filename in files:\n",
        "        # Create the full filepath by using os module.\n",
        "        filePath = os.path.join(root, filename)\n",
        "        filePaths.append(filePath)\n",
        "         \n",
        "  # return all paths\n",
        "  return filePaths\n",
        " \n",
        " \n",
        "# Declare the main function\n",
        "def main():\n",
        "# Assign the name of the directory to zip\n",
        "  dir_name = 'mydir'\n",
        "   \n",
        "  # Call the function to retrieve all files and folders of the assigned directory\n",
        "  filePaths = retrieve_file_paths('/content/dataset5/C')\n",
        "   \n",
        "  # printing the list of all files to be zipped\n",
        "  print('The following list of files will be zipped:')\n",
        "  for fileName in filePaths:\n",
        "    print(fileName)\n",
        "     \n",
        "  # writing files to a zipfile\n",
        "  zip_file = zipfile.ZipFile(dir_name+'.zip', 'w')\n",
        "  with zip_file:\n",
        "    # writing each file one by one\n",
        "    for file in filePaths:\n",
        "      zip_file.write(file)\n",
        "       \n",
        "  print(dir_name+'.zip file is created successfully!')\n",
        "   \n",
        "# Call the main function\n",
        "if __name__ == \"__main__\":\n",
        "  main()"
      ],
      "execution_count": 0,
      "outputs": []
    },
    {
      "cell_type": "code",
      "metadata": {
        "id": "Rmg18yeJo9At",
        "colab_type": "code",
        "colab": {}
      },
      "source": [
        "!apt-get install p7zip-full\n",
        "!tar -xvf /content/fingerspelling5.tar.bz2"
      ],
      "execution_count": 0,
      "outputs": []
    },
    {
      "cell_type": "code",
      "metadata": {
        "id": "rOGoQv4dPSt8",
        "colab_type": "code",
        "colab": {}
      },
      "source": [
        "import keras\n",
        "from keras import models\n",
        "from keras import layers\n",
        "\n",
        "from keras.layers import Dense,GlobalAveragePooling2D,Flatten,Dropout,BatchNormalization\n",
        "from keras.layers import Conv2D, MaxPooling2D\n"
      ],
      "execution_count": 0,
      "outputs": []
    },
    {
      "cell_type": "code",
      "metadata": {
        "id": "aWVVjAF_PUxh",
        "colab_type": "code",
        "outputId": "69d8fc0b-379d-4164-85fe-a60a8797160d",
        "colab": {
          "base_uri": "https://localhost:8080/",
          "height": 853
        }
      },
      "source": [
        "from keras.applications import VGG16\n",
        "from keras.applications import MobileNet\n",
        "from keras.applications.inception_v3 import InceptionV3\n",
        "\n",
        "\n",
        "base_model = VGG16(weights='imagenet',\n",
        "                  include_top=False,\n",
        "                  input_shape=(150, 150, 3))\n",
        "base_model.summary()"
      ],
      "execution_count": 0,
      "outputs": [
        {
          "output_type": "stream",
          "text": [
            "WARNING:tensorflow:From /usr/local/lib/python3.6/dist-packages/tensorflow/python/framework/op_def_library.py:263: colocate_with (from tensorflow.python.framework.ops) is deprecated and will be removed in a future version.\n",
            "Instructions for updating:\n",
            "Colocations handled automatically by placer.\n",
            "_________________________________________________________________\n",
            "Layer (type)                 Output Shape              Param #   \n",
            "=================================================================\n",
            "input_1 (InputLayer)         (None, 150, 150, 3)       0         \n",
            "_________________________________________________________________\n",
            "block1_conv1 (Conv2D)        (None, 150, 150, 64)      1792      \n",
            "_________________________________________________________________\n",
            "block1_conv2 (Conv2D)        (None, 150, 150, 64)      36928     \n",
            "_________________________________________________________________\n",
            "block1_pool (MaxPooling2D)   (None, 75, 75, 64)        0         \n",
            "_________________________________________________________________\n",
            "block2_conv1 (Conv2D)        (None, 75, 75, 128)       73856     \n",
            "_________________________________________________________________\n",
            "block2_conv2 (Conv2D)        (None, 75, 75, 128)       147584    \n",
            "_________________________________________________________________\n",
            "block2_pool (MaxPooling2D)   (None, 37, 37, 128)       0         \n",
            "_________________________________________________________________\n",
            "block3_conv1 (Conv2D)        (None, 37, 37, 256)       295168    \n",
            "_________________________________________________________________\n",
            "block3_conv2 (Conv2D)        (None, 37, 37, 256)       590080    \n",
            "_________________________________________________________________\n",
            "block3_conv3 (Conv2D)        (None, 37, 37, 256)       590080    \n",
            "_________________________________________________________________\n",
            "block3_pool (MaxPooling2D)   (None, 18, 18, 256)       0         \n",
            "_________________________________________________________________\n",
            "block4_conv1 (Conv2D)        (None, 18, 18, 512)       1180160   \n",
            "_________________________________________________________________\n",
            "block4_conv2 (Conv2D)        (None, 18, 18, 512)       2359808   \n",
            "_________________________________________________________________\n",
            "block4_conv3 (Conv2D)        (None, 18, 18, 512)       2359808   \n",
            "_________________________________________________________________\n",
            "block4_pool (MaxPooling2D)   (None, 9, 9, 512)         0         \n",
            "_________________________________________________________________\n",
            "block5_conv1 (Conv2D)        (None, 9, 9, 512)         2359808   \n",
            "_________________________________________________________________\n",
            "block5_conv2 (Conv2D)        (None, 9, 9, 512)         2359808   \n",
            "_________________________________________________________________\n",
            "block5_conv3 (Conv2D)        (None, 9, 9, 512)         2359808   \n",
            "_________________________________________________________________\n",
            "block5_pool (MaxPooling2D)   (None, 4, 4, 512)         0         \n",
            "=================================================================\n",
            "Total params: 14,714,688\n",
            "Trainable params: 14,714,688\n",
            "Non-trainable params: 0\n",
            "_________________________________________________________________\n"
          ],
          "name": "stdout"
        }
      ]
    },
    {
      "cell_type": "code",
      "metadata": {
        "id": "vqMDD2lJ6lB_",
        "colab_type": "code",
        "outputId": "cbced623-6252-4ff6-b639-74873700c2e9",
        "colab": {
          "base_uri": "https://localhost:8080/",
          "height": 88
        }
      },
      "source": [
        "base_model=MobileNet(weights='imagenet',include_top=False,input_shape=(160, 160, 3)) #imports the mobilenet model and discards the last 1000 neuron layer.\n",
        "\n",
        "x=base_model.output\n",
        "x=GlobalAveragePooling2D()(x)\n",
        "x=Dense(1024,activation='relu')(x) #we add dense layers so that the model can learn more complex functions and classify for better result\n",
        "x=Dropout(0.4)(x)\n",
        "x=BatchNormalization()(x)\n",
        "x=Dense(1024,activation='relu')(x) #dense layer 2\n",
        "x=Dense(280,activation='relu')(x) #dense layer 3\n",
        "preds=Dense(6,activation='softmax')(x) #final layer with softmax activation"
      ],
      "execution_count": 0,
      "outputs": [
        {
          "output_type": "stream",
          "text": [
            "WARNING:tensorflow:From /usr/local/lib/python3.6/dist-packages/keras/backend/tensorflow_backend.py:3445: calling dropout (from tensorflow.python.ops.nn_ops) with keep_prob is deprecated and will be removed in a future version.\n",
            "Instructions for updating:\n",
            "Please use `rate` instead of `keep_prob`. Rate should be set to `rate = 1 - keep_prob`.\n"
          ],
          "name": "stdout"
        }
      ]
    },
    {
      "cell_type": "code",
      "metadata": {
        "id": "8hqm2hW47CrP",
        "colab_type": "code",
        "outputId": "c61be511-d955-4a86-a0ed-e65f5535b35b",
        "colab": {
          "base_uri": "https://localhost:8080/",
          "height": 3332
        }
      },
      "source": [
        "from keras.models import Model\n",
        "\n",
        "model=Model(inputs=base_model.input,outputs=preds)\n",
        "\n",
        "for layer in model.layers[:70]:\n",
        "    layer.trainable=False\n",
        "for layer in model.layers[70:]:\n",
        "    layer.trainable=True\n",
        "model.summary()\n"
      ],
      "execution_count": 0,
      "outputs": [
        {
          "output_type": "stream",
          "text": [
            "_________________________________________________________________\n",
            "Layer (type)                 Output Shape              Param #   \n",
            "=================================================================\n",
            "input_2 (InputLayer)         (None, 160, 160, 3)       0         \n",
            "_________________________________________________________________\n",
            "conv1_pad (ZeroPadding2D)    (None, 161, 161, 3)       0         \n",
            "_________________________________________________________________\n",
            "conv1 (Conv2D)               (None, 80, 80, 32)        864       \n",
            "_________________________________________________________________\n",
            "conv1_bn (BatchNormalization (None, 80, 80, 32)        128       \n",
            "_________________________________________________________________\n",
            "conv1_relu (ReLU)            (None, 80, 80, 32)        0         \n",
            "_________________________________________________________________\n",
            "conv_dw_1 (DepthwiseConv2D)  (None, 80, 80, 32)        288       \n",
            "_________________________________________________________________\n",
            "conv_dw_1_bn (BatchNormaliza (None, 80, 80, 32)        128       \n",
            "_________________________________________________________________\n",
            "conv_dw_1_relu (ReLU)        (None, 80, 80, 32)        0         \n",
            "_________________________________________________________________\n",
            "conv_pw_1 (Conv2D)           (None, 80, 80, 64)        2048      \n",
            "_________________________________________________________________\n",
            "conv_pw_1_bn (BatchNormaliza (None, 80, 80, 64)        256       \n",
            "_________________________________________________________________\n",
            "conv_pw_1_relu (ReLU)        (None, 80, 80, 64)        0         \n",
            "_________________________________________________________________\n",
            "conv_pad_2 (ZeroPadding2D)   (None, 81, 81, 64)        0         \n",
            "_________________________________________________________________\n",
            "conv_dw_2 (DepthwiseConv2D)  (None, 40, 40, 64)        576       \n",
            "_________________________________________________________________\n",
            "conv_dw_2_bn (BatchNormaliza (None, 40, 40, 64)        256       \n",
            "_________________________________________________________________\n",
            "conv_dw_2_relu (ReLU)        (None, 40, 40, 64)        0         \n",
            "_________________________________________________________________\n",
            "conv_pw_2 (Conv2D)           (None, 40, 40, 128)       8192      \n",
            "_________________________________________________________________\n",
            "conv_pw_2_bn (BatchNormaliza (None, 40, 40, 128)       512       \n",
            "_________________________________________________________________\n",
            "conv_pw_2_relu (ReLU)        (None, 40, 40, 128)       0         \n",
            "_________________________________________________________________\n",
            "conv_dw_3 (DepthwiseConv2D)  (None, 40, 40, 128)       1152      \n",
            "_________________________________________________________________\n",
            "conv_dw_3_bn (BatchNormaliza (None, 40, 40, 128)       512       \n",
            "_________________________________________________________________\n",
            "conv_dw_3_relu (ReLU)        (None, 40, 40, 128)       0         \n",
            "_________________________________________________________________\n",
            "conv_pw_3 (Conv2D)           (None, 40, 40, 128)       16384     \n",
            "_________________________________________________________________\n",
            "conv_pw_3_bn (BatchNormaliza (None, 40, 40, 128)       512       \n",
            "_________________________________________________________________\n",
            "conv_pw_3_relu (ReLU)        (None, 40, 40, 128)       0         \n",
            "_________________________________________________________________\n",
            "conv_pad_4 (ZeroPadding2D)   (None, 41, 41, 128)       0         \n",
            "_________________________________________________________________\n",
            "conv_dw_4 (DepthwiseConv2D)  (None, 20, 20, 128)       1152      \n",
            "_________________________________________________________________\n",
            "conv_dw_4_bn (BatchNormaliza (None, 20, 20, 128)       512       \n",
            "_________________________________________________________________\n",
            "conv_dw_4_relu (ReLU)        (None, 20, 20, 128)       0         \n",
            "_________________________________________________________________\n",
            "conv_pw_4 (Conv2D)           (None, 20, 20, 256)       32768     \n",
            "_________________________________________________________________\n",
            "conv_pw_4_bn (BatchNormaliza (None, 20, 20, 256)       1024      \n",
            "_________________________________________________________________\n",
            "conv_pw_4_relu (ReLU)        (None, 20, 20, 256)       0         \n",
            "_________________________________________________________________\n",
            "conv_dw_5 (DepthwiseConv2D)  (None, 20, 20, 256)       2304      \n",
            "_________________________________________________________________\n",
            "conv_dw_5_bn (BatchNormaliza (None, 20, 20, 256)       1024      \n",
            "_________________________________________________________________\n",
            "conv_dw_5_relu (ReLU)        (None, 20, 20, 256)       0         \n",
            "_________________________________________________________________\n",
            "conv_pw_5 (Conv2D)           (None, 20, 20, 256)       65536     \n",
            "_________________________________________________________________\n",
            "conv_pw_5_bn (BatchNormaliza (None, 20, 20, 256)       1024      \n",
            "_________________________________________________________________\n",
            "conv_pw_5_relu (ReLU)        (None, 20, 20, 256)       0         \n",
            "_________________________________________________________________\n",
            "conv_pad_6 (ZeroPadding2D)   (None, 21, 21, 256)       0         \n",
            "_________________________________________________________________\n",
            "conv_dw_6 (DepthwiseConv2D)  (None, 10, 10, 256)       2304      \n",
            "_________________________________________________________________\n",
            "conv_dw_6_bn (BatchNormaliza (None, 10, 10, 256)       1024      \n",
            "_________________________________________________________________\n",
            "conv_dw_6_relu (ReLU)        (None, 10, 10, 256)       0         \n",
            "_________________________________________________________________\n",
            "conv_pw_6 (Conv2D)           (None, 10, 10, 512)       131072    \n",
            "_________________________________________________________________\n",
            "conv_pw_6_bn (BatchNormaliza (None, 10, 10, 512)       2048      \n",
            "_________________________________________________________________\n",
            "conv_pw_6_relu (ReLU)        (None, 10, 10, 512)       0         \n",
            "_________________________________________________________________\n",
            "conv_dw_7 (DepthwiseConv2D)  (None, 10, 10, 512)       4608      \n",
            "_________________________________________________________________\n",
            "conv_dw_7_bn (BatchNormaliza (None, 10, 10, 512)       2048      \n",
            "_________________________________________________________________\n",
            "conv_dw_7_relu (ReLU)        (None, 10, 10, 512)       0         \n",
            "_________________________________________________________________\n",
            "conv_pw_7 (Conv2D)           (None, 10, 10, 512)       262144    \n",
            "_________________________________________________________________\n",
            "conv_pw_7_bn (BatchNormaliza (None, 10, 10, 512)       2048      \n",
            "_________________________________________________________________\n",
            "conv_pw_7_relu (ReLU)        (None, 10, 10, 512)       0         \n",
            "_________________________________________________________________\n",
            "conv_dw_8 (DepthwiseConv2D)  (None, 10, 10, 512)       4608      \n",
            "_________________________________________________________________\n",
            "conv_dw_8_bn (BatchNormaliza (None, 10, 10, 512)       2048      \n",
            "_________________________________________________________________\n",
            "conv_dw_8_relu (ReLU)        (None, 10, 10, 512)       0         \n",
            "_________________________________________________________________\n",
            "conv_pw_8 (Conv2D)           (None, 10, 10, 512)       262144    \n",
            "_________________________________________________________________\n",
            "conv_pw_8_bn (BatchNormaliza (None, 10, 10, 512)       2048      \n",
            "_________________________________________________________________\n",
            "conv_pw_8_relu (ReLU)        (None, 10, 10, 512)       0         \n",
            "_________________________________________________________________\n",
            "conv_dw_9 (DepthwiseConv2D)  (None, 10, 10, 512)       4608      \n",
            "_________________________________________________________________\n",
            "conv_dw_9_bn (BatchNormaliza (None, 10, 10, 512)       2048      \n",
            "_________________________________________________________________\n",
            "conv_dw_9_relu (ReLU)        (None, 10, 10, 512)       0         \n",
            "_________________________________________________________________\n",
            "conv_pw_9 (Conv2D)           (None, 10, 10, 512)       262144    \n",
            "_________________________________________________________________\n",
            "conv_pw_9_bn (BatchNormaliza (None, 10, 10, 512)       2048      \n",
            "_________________________________________________________________\n",
            "conv_pw_9_relu (ReLU)        (None, 10, 10, 512)       0         \n",
            "_________________________________________________________________\n",
            "conv_dw_10 (DepthwiseConv2D) (None, 10, 10, 512)       4608      \n",
            "_________________________________________________________________\n",
            "conv_dw_10_bn (BatchNormaliz (None, 10, 10, 512)       2048      \n",
            "_________________________________________________________________\n",
            "conv_dw_10_relu (ReLU)       (None, 10, 10, 512)       0         \n",
            "_________________________________________________________________\n",
            "conv_pw_10 (Conv2D)          (None, 10, 10, 512)       262144    \n",
            "_________________________________________________________________\n",
            "conv_pw_10_bn (BatchNormaliz (None, 10, 10, 512)       2048      \n",
            "_________________________________________________________________\n",
            "conv_pw_10_relu (ReLU)       (None, 10, 10, 512)       0         \n",
            "_________________________________________________________________\n",
            "conv_dw_11 (DepthwiseConv2D) (None, 10, 10, 512)       4608      \n",
            "_________________________________________________________________\n",
            "conv_dw_11_bn (BatchNormaliz (None, 10, 10, 512)       2048      \n",
            "_________________________________________________________________\n",
            "conv_dw_11_relu (ReLU)       (None, 10, 10, 512)       0         \n",
            "_________________________________________________________________\n",
            "conv_pw_11 (Conv2D)          (None, 10, 10, 512)       262144    \n",
            "_________________________________________________________________\n",
            "conv_pw_11_bn (BatchNormaliz (None, 10, 10, 512)       2048      \n",
            "_________________________________________________________________\n",
            "conv_pw_11_relu (ReLU)       (None, 10, 10, 512)       0         \n",
            "_________________________________________________________________\n",
            "conv_pad_12 (ZeroPadding2D)  (None, 11, 11, 512)       0         \n",
            "_________________________________________________________________\n",
            "conv_dw_12 (DepthwiseConv2D) (None, 5, 5, 512)         4608      \n",
            "_________________________________________________________________\n",
            "conv_dw_12_bn (BatchNormaliz (None, 5, 5, 512)         2048      \n",
            "_________________________________________________________________\n",
            "conv_dw_12_relu (ReLU)       (None, 5, 5, 512)         0         \n",
            "_________________________________________________________________\n",
            "conv_pw_12 (Conv2D)          (None, 5, 5, 1024)        524288    \n",
            "_________________________________________________________________\n",
            "conv_pw_12_bn (BatchNormaliz (None, 5, 5, 1024)        4096      \n",
            "_________________________________________________________________\n",
            "conv_pw_12_relu (ReLU)       (None, 5, 5, 1024)        0         \n",
            "_________________________________________________________________\n",
            "conv_dw_13 (DepthwiseConv2D) (None, 5, 5, 1024)        9216      \n",
            "_________________________________________________________________\n",
            "conv_dw_13_bn (BatchNormaliz (None, 5, 5, 1024)        4096      \n",
            "_________________________________________________________________\n",
            "conv_dw_13_relu (ReLU)       (None, 5, 5, 1024)        0         \n",
            "_________________________________________________________________\n",
            "conv_pw_13 (Conv2D)          (None, 5, 5, 1024)        1048576   \n",
            "_________________________________________________________________\n",
            "conv_pw_13_bn (BatchNormaliz (None, 5, 5, 1024)        4096      \n",
            "_________________________________________________________________\n",
            "conv_pw_13_relu (ReLU)       (None, 5, 5, 1024)        0         \n",
            "_________________________________________________________________\n",
            "global_average_pooling2d_1 ( (None, 1024)              0         \n",
            "_________________________________________________________________\n",
            "dense_1 (Dense)              (None, 1024)              1049600   \n",
            "_________________________________________________________________\n",
            "dropout_1 (Dropout)          (None, 1024)              0         \n",
            "_________________________________________________________________\n",
            "batch_normalization_1 (Batch (None, 1024)              4096      \n",
            "_________________________________________________________________\n",
            "dense_2 (Dense)              (None, 1024)              1049600   \n",
            "_________________________________________________________________\n",
            "dense_3 (Dense)              (None, 280)               287000    \n",
            "_________________________________________________________________\n",
            "dense_4 (Dense)              (None, 6)                 1686      \n",
            "=================================================================\n",
            "Total params: 5,620,846\n",
            "Trainable params: 4,246,958\n",
            "Non-trainable params: 1,373,888\n",
            "_________________________________________________________________\n"
          ],
          "name": "stdout"
        }
      ]
    },
    {
      "cell_type": "code",
      "metadata": {
        "id": "xTBPh1bBPXRw",
        "colab_type": "code",
        "colab": {}
      },
      "source": [
        "x=base_model.output\n",
        "from keras.models import Model\n",
        "\n",
        "x = Flatten()(x)\n",
        "x = Dense(512, activation='relu')(x)\n",
        "x=Dropout(0.4)(x)\n",
        "x=BatchNormalization()(x)\n",
        "x = Dense(512, activation='relu')(x)\n",
        "\n",
        "x = Dense(6 , activation='sigmoid')(x)\n",
        "model=Model(inputs=base_model.input,outputs=x)\n",
        "model.summary()\n"
      ],
      "execution_count": 0,
      "outputs": []
    },
    {
      "cell_type": "code",
      "metadata": {
        "id": "CoW2kT9KbBcM",
        "colab_type": "code",
        "colab": {}
      },
      "source": [
        "from __future__ import print_function\n",
        "import keras\n",
        "from keras.datasets import mnist\n",
        "from keras.models import Sequential\n",
        "from keras.layers import Dense, Dropout, Flatten\n",
        "from keras.layers import Conv2D, MaxPooling2D\n",
        "from keras import backend as K\n"
      ],
      "execution_count": 0,
      "outputs": []
    },
    {
      "cell_type": "code",
      "metadata": {
        "id": "IWhAmyP7PZ_C",
        "colab_type": "code",
        "colab": {}
      },
      "source": [
        "model.trainable = True\n",
        "\n",
        "set_trainable = False\n",
        "for layer in model.layers:\n",
        "    if layer.name == 'block5_conv2':\n",
        "        set_trainable = True\n",
        "    if set_trainable:\n",
        "        layer.trainable = True\n",
        "    else:\n",
        "        layer.trainable = False"
      ],
      "execution_count": 0,
      "outputs": []
    },
    {
      "cell_type": "code",
      "metadata": {
        "id": "CasSWaSlI3LN",
        "colab_type": "code",
        "colab": {}
      },
      "source": [
        "model.summary()"
      ],
      "execution_count": 0,
      "outputs": []
    },
    {
      "cell_type": "code",
      "metadata": {
        "id": "dvKudjLcPanh",
        "colab_type": "code",
        "outputId": "944af4ab-a68a-4a42-c3ce-13501932302c",
        "colab": {
          "base_uri": "https://localhost:8080/",
          "height": 51
        }
      },
      "source": [
        "import os\n",
        "import numpy as np\n",
        "from keras.preprocessing.image import ImageDataGenerator\n",
        "\n",
        "#base_dir = '/content/drive/My Drive/facess'\n",
        "\n",
        "from keras.preprocessing.image import ImageDataGenerator\n",
        "\n",
        "train_datagen = ImageDataGenerator(\n",
        "      rescale=1./255,\n",
        "    horizontal_flip = True,\n",
        "\n",
        "rotation_range=30\n",
        "      \n",
        "      \n",
        "      )\n",
        "\n",
        "# Note that the validation data should not be augmented!\n",
        "test_datagen = ImageDataGenerator(rescale=1./255)\n",
        "\n",
        "train_generator = train_datagen.flow_from_directory(\n",
        "        # This is the target directory\n",
        "        '/content/seg_train',\n",
        "        # All images will be resized to 150x150\n",
        "        target_size=(160, 160),\n",
        "        batch_size=100,\n",
        "        # Since we use binary_crossentropy loss, we need binary labels\n",
        "        class_mode='categorical')\n",
        "\n",
        "validation_generator = test_datagen.flow_from_directory(\n",
        "    '/content/seg_test',\n",
        "        \n",
        "        target_size=(160, 160),\n",
        "        batch_size=50,\n",
        "        class_mode='categorical')"
      ],
      "execution_count": 0,
      "outputs": [
        {
          "output_type": "stream",
          "text": [
            "Found 14034 images belonging to 6 classes.\n",
            "Found 3000 images belonging to 6 classes.\n"
          ],
          "name": "stdout"
        }
      ]
    },
    {
      "cell_type": "code",
      "metadata": {
        "id": "5TWPqyD0PenN",
        "colab_type": "code",
        "colab": {}
      },
      "source": [
        "from keras import models\n",
        "from keras import layers\n",
        "from keras import optimizers"
      ],
      "execution_count": 0,
      "outputs": []
    },
    {
      "cell_type": "code",
      "metadata": {
        "id": "vu7kyZozPgoc",
        "colab_type": "code",
        "outputId": "94ca38c9-a96e-410f-e053-819234d6748b",
        "colab": {
          "base_uri": "https://localhost:8080/",
          "height": 867
        }
      },
      "source": [
        "model.compile(loss='categorical_crossentropy',\n",
        "              optimizer=optimizers.RMSprop(lr=0.001),\n",
        "              metrics=['acc'])\n",
        "\n",
        "history = model.fit_generator(\n",
        "      train_generator,\n",
        "      steps_per_epoch=141,\n",
        "      epochs=25,\n",
        "      validation_data=validation_generator,\n",
        "      validation_steps=60)"
      ],
      "execution_count": 0,
      "outputs": [
        {
          "output_type": "stream",
          "text": [
            "Epoch 1/25\n",
            "141/141 [==============================] - 101s 715ms/step - loss: 0.4427 - acc: 0.8551 - val_loss: 2.1572 - val_acc: 0.6557\n",
            "Epoch 2/25\n",
            "141/141 [==============================] - 94s 668ms/step - loss: 0.2957 - acc: 0.9006 - val_loss: 0.4850 - val_acc: 0.8393\n",
            "Epoch 3/25\n",
            "141/141 [==============================] - 95s 672ms/step - loss: 0.2478 - acc: 0.9190 - val_loss: 1.3894 - val_acc: 0.8010\n",
            "Epoch 4/25\n",
            "141/141 [==============================] - 102s 725ms/step - loss: 0.2506 - acc: 0.9227 - val_loss: 0.3815 - val_acc: 0.8907\n",
            "Epoch 5/25\n",
            "141/141 [==============================] - 104s 735ms/step - loss: 0.2027 - acc: 0.9341 - val_loss: 0.8150 - val_acc: 0.8727\n",
            "Epoch 6/25\n",
            "141/141 [==============================] - 105s 748ms/step - loss: 0.1985 - acc: 0.9367 - val_loss: 0.9254 - val_acc: 0.8483\n",
            "Epoch 7/25\n",
            "141/141 [==============================] - 102s 724ms/step - loss: 0.1719 - acc: 0.9431 - val_loss: 0.5122 - val_acc: 0.8977\n",
            "Epoch 8/25\n",
            "141/141 [==============================] - 102s 725ms/step - loss: 0.1695 - acc: 0.9500 - val_loss: 0.8246 - val_acc: 0.8520\n",
            "Epoch 9/25\n",
            "141/141 [==============================] - 99s 702ms/step - loss: 0.1478 - acc: 0.9511 - val_loss: 0.7879 - val_acc: 0.7907\n",
            "Epoch 10/25\n",
            "141/141 [==============================] - 99s 699ms/step - loss: 0.1675 - acc: 0.9531 - val_loss: 1.0641 - val_acc: 0.8650\n",
            "Epoch 11/25\n",
            "141/141 [==============================] - 100s 706ms/step - loss: 0.1311 - acc: 0.9566 - val_loss: 1.0667 - val_acc: 0.8313\n",
            "Epoch 12/25\n",
            "141/141 [==============================] - 101s 719ms/step - loss: 0.1245 - acc: 0.9605 - val_loss: 0.9609 - val_acc: 0.8440\n",
            "Epoch 13/25\n",
            "141/141 [==============================] - 104s 735ms/step - loss: 0.1199 - acc: 0.9640 - val_loss: 0.6797 - val_acc: 0.8627\n",
            "Epoch 14/25\n",
            "141/141 [==============================] - 103s 728ms/step - loss: 0.1025 - acc: 0.9652 - val_loss: 0.4472 - val_acc: 0.8563\n",
            "Epoch 15/25\n",
            "141/141 [==============================] - 106s 754ms/step - loss: 0.1114 - acc: 0.9680 - val_loss: 0.6987 - val_acc: 0.8593\n",
            "Epoch 16/25\n",
            "141/141 [==============================] - 105s 746ms/step - loss: 0.0993 - acc: 0.9702 - val_loss: 1.1259 - val_acc: 0.8337\n",
            "Epoch 17/25\n",
            "141/141 [==============================] - 102s 721ms/step - loss: 0.0905 - acc: 0.9720 - val_loss: 1.9579 - val_acc: 0.7770\n",
            "Epoch 18/25\n",
            "141/141 [==============================] - 101s 720ms/step - loss: 0.0832 - acc: 0.9723 - val_loss: 2.9034 - val_acc: 0.7120\n",
            "Epoch 19/25\n",
            "141/141 [==============================] - 102s 720ms/step - loss: 0.0810 - acc: 0.9746 - val_loss: 1.0520 - val_acc: 0.8537\n",
            "Epoch 20/25\n",
            "141/141 [==============================] - 102s 721ms/step - loss: 0.0874 - acc: 0.9743 - val_loss: 0.8077 - val_acc: 0.8787\n",
            "Epoch 21/25\n",
            "141/141 [==============================] - 101s 719ms/step - loss: 0.0692 - acc: 0.9778 - val_loss: 0.9093 - val_acc: 0.8447\n",
            "Epoch 22/25\n",
            "141/141 [==============================] - 101s 718ms/step - loss: 0.0865 - acc: 0.9753 - val_loss: 0.5826 - val_acc: 0.8543\n",
            "Epoch 23/25\n",
            "141/141 [==============================] - 107s 758ms/step - loss: 0.0675 - acc: 0.9794 - val_loss: 0.7208 - val_acc: 0.8513\n",
            "Epoch 24/25\n",
            "141/141 [==============================] - 106s 752ms/step - loss: 0.0720 - acc: 0.9775 - val_loss: 0.6527 - val_acc: 0.8780\n",
            "Epoch 25/25\n",
            "141/141 [==============================] - 103s 730ms/step - loss: 0.1238 - acc: 0.9784 - val_loss: 1.0810 - val_acc: 0.8383\n"
          ],
          "name": "stdout"
        }
      ]
    },
    {
      "cell_type": "code",
      "metadata": {
        "id": "iWchZr_3QQO_",
        "colab_type": "code",
        "outputId": "3a466620-7fba-4485-b40b-f217cba9f08d",
        "colab": {
          "base_uri": "https://localhost:8080/",
          "height": 371
        }
      },
      "source": [
        "import numpy as np\n",
        "%matplotlib inline\n",
        "from keras.preprocessing import image\n",
        "\n",
        "import matplotlib.pyplot as plt\n",
        "import numpy as np\n",
        "\n",
        "\n",
        "img_path = \"/content/roupellstreet2108B.jpg\"\n",
        "img = image.load_img(img_path, target_size=(160, 160))\n",
        "print(type(img))\n",
        "plt.imshow(img)\n",
        "\n",
        "\n",
        "x = image.img_to_array(img)\n",
        "x=x/255\n",
        "print(type(x))\n",
        "print(x.shape)\n",
        "x = np.expand_dims(x, axis=0)\n",
        "x=x.reshape(1,160,160,3)\n",
        "#\n",
        "predictions = model.predict(x)     # Vector of probabilities\n",
        "print(predictions)\n",
        "classes =['building','forest','glacier','mountain','sea','street']\n",
        "q=np.argmax(predictions)\n",
        "\n",
        "print('i see',classes[q])\n"
      ],
      "execution_count": 0,
      "outputs": [
        {
          "output_type": "stream",
          "text": [
            "<class 'PIL.Image.Image'>\n",
            "<class 'numpy.ndarray'>\n",
            "(160, 160, 3)\n",
            "[[2.6230483e-36 0.0000000e+00 0.0000000e+00 0.0000000e+00 0.0000000e+00\n",
            "  1.0000000e+00]]\n",
            "i see street\n"
          ],
          "name": "stdout"
        },
        {
          "output_type": "display_data",
          "data": {
            "image/png": "[encoded data removed]",
            "text/plain": [
              "<Figure size 432x288 with 1 Axes>"
            ]
          },
          "metadata": {
            "tags": []
          }
        }
      ]
    },
    {
      "cell_type": "code",
      "metadata": {
        "id": "lllUHIdYuiSt",
        "colab_type": "code",
        "outputId": "df68054d-260a-41d6-d59c-2161ffd573d5",
        "colab": {
          "base_uri": "https://localhost:8080/",
          "height": 200
        }
      },
      "source": [
        "fig = plt.figure(figsize=(10,5))\n",
        "plt.subplot(221)\n",
        "plt.plot(history.history['acc'],'bo--', label = \"acc\")\n",
        "plt.plot(history.history['val_acc'], 'ro--', label = \"val_acc\")\n",
        "plt.title(\"train_acc vs val_acc\")\n",
        "plt.ylabel(\"accuracy\")\n",
        "plt.xlabel(\"epochs\")\n",
        "plt.legend()\n",
        "\n",
        "plt.subplot(222)\n",
        "plt.plot(history.history['loss'],'bo--', label = \"loss\")\n",
        "plt.plot(history.history['val_loss'], 'ro--', label = \"val_loss\")\n",
        "plt.title(\"train_loss vs val_loss\")\n",
        "plt.ylabel(\"loss\")\n",
        "plt.xlabel(\"epochs\")\n",
        "\n",
        "\n",
        "plt.legend()\n",
        "plt.show()"
      ],
      "execution_count": 0,
      "outputs": [
        {
          "output_type": "display_data",
          "data": {
            "image/png": "[encoded data removed]",
            "text/plain": [
              "<Figure size 720x360 with 2 Axes>"
            ]
          },
          "metadata": {
            "tags": []
          }
        }
      ]
    }
  ]
}